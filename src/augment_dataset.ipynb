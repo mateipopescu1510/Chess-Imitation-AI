{
 "cells": [
  {
   "cell_type": "code",
   "execution_count": 1,
   "metadata": {},
   "outputs": [],
   "source": [
    "import chess\n",
    "import pandas as pd\n",
    "import numpy as np\n",
    "import time\n",
    "import positional_features\n",
    "from IPython.display import clear_output\n",
    "from stockfish import Stockfish\n",
    "\n",
    "DATASET_OLD_PATH = '../data_old/dataset_old.csv'\n",
    "DATASET_PATH = '../data/dataset.csv'\n",
    "\n",
    "TEST_DATASET_PATH = '../test/test_dataset.csv'\n",
    "NEW_TEST_DATASET_PATH = '../test/new_test_dataset.csv'\n",
    "data = pd.read_csv(DATASET_OLD_PATH, index_col=0)\n",
    "\n",
    "stockfish = Stockfish(path = 'C:\\Program Files\\stockfish\\stockfish-windows-x86-64-avx2.exe', depth=15)"
   ]
  },
  {
   "cell_type": "code",
   "execution_count": 3,
   "metadata": {},
   "outputs": [],
   "source": [
    "def get_sf_eval(fen):\n",
    "    stockfish.set_fen_position(fen)\n",
    "    eval = stockfish.get_evaluation()\n",
    "    \n",
    "    if eval['type'] == 'cp':\n",
    "        return eval['value'] / 100.0\n",
    "    else:\n",
    "        return float('inf') if eval['value'] > 0 else float('-inf')\n",
    "    \n",
    "def get_sf_eval_before_and_after(fen, move):\n",
    "    eval_before = get_sf_eval(fen)\n",
    "    \n",
    "    board = chess.Board(fen)\n",
    "    board.push_uci(move)\n",
    "    \n",
    "    eval_after = get_sf_eval(board.fen())\n",
    "    \n",
    "    return (eval_before, eval_after)"
   ]
  },
  {
   "cell_type": "code",
   "execution_count": 5,
   "metadata": {},
   "outputs": [
    {
     "name": "stdout",
     "output_type": "stream",
     "text": [
      "105200/105293\n"
     ]
    }
   ],
   "source": [
    "# adding stockfish evaluation to every position before and after my move & game phase heuristic\n",
    "size = len(data)\n",
    "evals = []\n",
    "game_phases = []\n",
    "\n",
    "for index, row in data.iterrows():\n",
    "    if index % 100 == 0:\n",
    "        clear_output()\n",
    "        print(f'{index}/{size}')\n",
    "    \n",
    "    fen = row['fen']\n",
    "    move = row['move']\n",
    "    \n",
    "    evals.append(get_sf_eval_before_and_after(fen, move))\n",
    "    game_phases.append(positional_features.game_phase(fen))\n",
    "    \n",
    "evals_before, evals_after = zip(*evals)\n",
    "data['eval_before'] = evals_before\n",
    "data['eval_after'] = evals_after\n",
    "data['game_phase'] = game_phases\n",
    "\n",
    "data.to_csv(DATASET_PATH)\n",
    "\n",
    "# 105293 positions evaluated in 447 minutes => ~235 positions/minute or ~14000 positions/hour"
   ]
  }
 ],
 "metadata": {
  "kernelspec": {
   "display_name": "Python 3.11.2 64-bit",
   "language": "python",
   "name": "python3"
  },
  "language_info": {
   "codemirror_mode": {
    "name": "ipython",
    "version": 3
   },
   "file_extension": ".py",
   "mimetype": "text/x-python",
   "name": "python",
   "nbconvert_exporter": "python",
   "pygments_lexer": "ipython3",
   "version": "3.11.2"
  },
  "orig_nbformat": 4,
  "vscode": {
   "interpreter": {
    "hash": "c261aea317cc0286b3b3261fbba9abdec21eaa57589985bb7a274bf54d6cc0a7"
   }
  }
 },
 "nbformat": 4,
 "nbformat_minor": 2
}

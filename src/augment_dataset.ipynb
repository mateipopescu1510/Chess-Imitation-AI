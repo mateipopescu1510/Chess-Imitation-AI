{
 "cells": [
  {
   "cell_type": "code",
   "execution_count": 10,
   "metadata": {},
   "outputs": [],
   "source": [
    "import chess\n",
    "import pandas as pd\n",
    "import numpy as np\n",
    "import time\n",
    "import positional_features\n",
    "from IPython.display import clear_output\n",
    "from stockfish import Stockfish\n",
    "\n",
    "DATASET_OLD_PATH = \"../data_old/dataset_old.csv\"\n",
    "DATASET_PATH = \"../data/dataset.csv\"\n",
    "data = pd.read_csv(DATASET_OLD_PATH)\n",
    "\n",
    "stockfish = Stockfish(path = \"C:\\Program Files\\stockfish\\stockfish-windows-x86-64-avx2.exe\", depth=15)"
   ]
  },
  {
   "cell_type": "code",
   "execution_count": 11,
   "metadata": {},
   "outputs": [
    {
     "name": "stdout",
     "output_type": "stream",
     "text": [
      "105200/105293\n"
     ]
    }
   ],
   "source": [
    "# adding stockfish evaluation to every position \n",
    "evals = []\n",
    "size = len(data)\n",
    "for index, row in data.iterrows():\n",
    "    if index % 100 == 0:\n",
    "        clear_output()\n",
    "        print(f'{index}/{size}')\n",
    "    stockfish.set_fen_position(row['fen'])\n",
    "    eval = stockfish.get_evaluation()\n",
    "    \n",
    "    if eval['type'] == 'cp':\n",
    "        evals.append(eval['value']/100.0)\n",
    "    else:\n",
    "        evals.append(float('inf') if eval['value'] > 0 else float('-inf'))\n",
    "data['evals'] = evals\n",
    "data.to_csv(DATASET_PATH)\n",
    "\n",
    "# 105293 positions evaluated in 152 minutes @ stockfish depth 15 => ~690 positions/minute "
   ]
  }
 ],
 "metadata": {
  "kernelspec": {
   "display_name": "Python 3.11.2 64-bit",
   "language": "python",
   "name": "python3"
  },
  "language_info": {
   "codemirror_mode": {
    "name": "ipython",
    "version": 3
   },
   "file_extension": ".py",
   "mimetype": "text/x-python",
   "name": "python",
   "nbconvert_exporter": "python",
   "pygments_lexer": "ipython3",
   "version": "3.11.2"
  },
  "orig_nbformat": 4,
  "vscode": {
   "interpreter": {
    "hash": "c261aea317cc0286b3b3261fbba9abdec21eaa57589985bb7a274bf54d6cc0a7"
   }
  }
 },
 "nbformat": 4,
 "nbformat_minor": 2
}

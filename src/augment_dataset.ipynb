{
 "cells": [
  {
   "cell_type": "code",
   "execution_count": 3,
   "metadata": {},
   "outputs": [],
   "source": [
    "import chess\n",
    "import pandas as pd\n",
    "import numpy as np\n",
    "import time\n",
    "import positional_features\n",
    "from IPython.display import clear_output\n",
    "from stockfish import Stockfish\n",
    "\n",
    "DATASET_OLD_PATH = '../data_old/dataset_kingdanger.csv'\n",
    "DATASET_PATH = '../data/dataset.csv'\n",
    "\n",
    "TEST_DATASET_PATH = '../test/test_dataset.csv'\n",
    "NEW_TEST_DATASET_PATH = '../test/new_test_dataset.csv'\n",
    "data = pd.read_csv(DATASET_OLD_PATH, index_col=0)\n",
    "\n",
    "stockfish = Stockfish(path = 'C:\\Program Files\\stockfish\\stockfish-windows-x86-64-avx2.exe', depth=13, parameters={'Threads': 4, 'Hash': 32})"
   ]
  },
  {
   "cell_type": "code",
   "execution_count": 4,
   "metadata": {},
   "outputs": [],
   "source": [
    "def get_sf_eval(fen):\n",
    "    stockfish.set_fen_position(fen)\n",
    "    eval = stockfish.get_evaluation()\n",
    "    \n",
    "    if eval['type'] == 'cp':\n",
    "        return eval['value'] / 100.0\n",
    "    else:\n",
    "        return float('inf') if eval['value'] > 0 else float('-inf')\n",
    "    \n",
    "def get_sf_eval_before_and_after(fen, move):\n",
    "    eval_before = get_sf_eval(fen)\n",
    "    \n",
    "    board = chess.Board(fen)\n",
    "    board.push_uci(move)\n",
    "    \n",
    "    eval_after = get_sf_eval(board.fen())\n",
    "    \n",
    "    return (eval_before, eval_after, round(eval_after - eval_before, 2))\n",
    "\n",
    "def is_top_move(fen, move):\n",
    "    stockfish.set_fen_position(fen)\n",
    "    top_moves = [m['Move'] for m in stockfish.get_top_moves(3)]\n",
    "    return move in top_moves"
   ]
  },
  {
   "cell_type": "code",
   "execution_count": null,
   "metadata": {},
   "outputs": [],
   "source": [
    "size = len(data)\n",
    "evals = []\n",
    "top_moves = []\n",
    "game_phases = []\n",
    "king_danger_scores = []\n",
    "\n",
    "for index, row in data.iterrows():\n",
    "    if index % 100 == 0:\n",
    "        clear_output()\n",
    "        print(f'{index}/{size}')\n",
    "    \n",
    "    fen = row['fen']\n",
    "    move = row['move']\n",
    "    board = chess.Board(fen)\n",
    "    \n",
    "    evals.append(get_sf_eval_before_and_after(fen, move))\n",
    "    top_moves.append(is_top_move(fen, move))\n",
    "    \n",
    "    game_phases.append(positional_features.game_phase(board))\n",
    "    king_danger_scores.append(positional_features.king_danger_score(board, board.turn))\n",
    "    \n",
    "evals_before, evals_after, evals_delta = zip(*evals)\n",
    "user_king_danger_scores, opponent_king_danger_scores, king_danger_diffs = zip(*king_danger_scores) \n",
    "\n",
    "data['eval_before'] = evals_before\n",
    "data['eval_after'] = evals_after\n",
    "data['eval_delta'] = evals_delta\n",
    "data['is_top_move'] = top_moves\n",
    "data['game_phase'] = game_phases\n",
    "data['user_king_danger'] = user_king_danger_scores\n",
    "data['opponent_king_danger'] = opponent_king_danger_scores\n",
    "data['king_danger_diff'] = king_danger_diffs\n",
    "\n",
    "data.to_csv(DATASET_PATH)\n",
    "\n",
    "# 105293 positions evaluated in 376 minutes ~= 7 hours"
   ]
  },
  {
   "cell_type": "code",
   "execution_count": 6,
   "metadata": {},
   "outputs": [
    {
     "name": "stdout",
     "output_type": "stream",
     "text": [
      "105000/105293\n"
     ]
    }
   ],
   "source": [
    "size = len(data)\n",
    "center_control_scores = []\n",
    "file_control_scores = []\n",
    "pawn_structures = []\n",
    "\n",
    "for index, row in data.iterrows():\n",
    "    if index % 1000 == 0:\n",
    "        clear_output()\n",
    "        print(f'{index}/{size}')\n",
    "        \n",
    "    fen = row['fen']\n",
    "    move = row['move']\n",
    "    board = chess.Board(fen)\n",
    "        \n",
    "    center_control_scores.append(positional_features.center_control_score(board, board.turn))\n",
    "    file_control_scores.append(positional_features.file_control_score(board, board.turn))\n",
    "    pawn_structures.append(positional_features.pawn_structure(board))\n",
    "    \n",
    "        \n",
    "user_center_control_scores, opponent_center_control_scores, center_control_diffs = zip(*center_control_scores)\n",
    "user_file_control_scores, opponent_file_control_scors, file_control_diffs = zip(*file_control_scores)\n",
    "\n",
    "data['user_center_control_score'] = user_center_control_scores\n",
    "data['opponent_center_control_score'] = opponent_center_control_scores\n",
    "data['center_control_diff'] = center_control_diffs\n",
    "\n",
    "data['user_file_control_score'] = user_file_control_scores\n",
    "data['opponent_file_control_score'] = opponent_file_control_scors\n",
    "data['file_control_diff'] = file_control_diffs\n",
    "\n",
    "data['pawn_structure'] = pawn_structures\n",
    "\n",
    "data.to_csv(DATASET_PATH)\n",
    "\n",
    "# 105293 positions evaluated in 40 seconds! goes to show how resource-heavy stockfish is."
   ]
  }
 ],
 "metadata": {
  "kernelspec": {
   "display_name": "Python 3.11.2 64-bit",
   "language": "python",
   "name": "python3"
  },
  "language_info": {
   "codemirror_mode": {
    "name": "ipython",
    "version": 3
   },
   "file_extension": ".py",
   "mimetype": "text/x-python",
   "name": "python",
   "nbconvert_exporter": "python",
   "pygments_lexer": "ipython3",
   "version": "3.11.2"
  },
  "orig_nbformat": 4,
  "vscode": {
   "interpreter": {
    "hash": "c261aea317cc0286b3b3261fbba9abdec21eaa57589985bb7a274bf54d6cc0a7"
   }
  }
 },
 "nbformat": 4,
 "nbformat_minor": 2
}

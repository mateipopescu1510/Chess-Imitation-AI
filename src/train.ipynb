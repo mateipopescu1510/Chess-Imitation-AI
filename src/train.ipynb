{
 "cells": [
  {
   "cell_type": "code",
   "execution_count": 1,
   "metadata": {},
   "outputs": [
    {
     "data": {
      "text/plain": [
       "'cpu'"
      ]
     },
     "execution_count": 1,
     "metadata": {},
     "output_type": "execute_result"
    }
   ],
   "source": [
    "import chess\n",
    "import torch\n",
    "import model\n",
    "import modeld\n",
    "import encode_data\n",
    "# device = 'cuda' if torch.cuda.is_available() else 'cpu'\n",
    "device = 'cpu'\n",
    "device"
   ]
  },
  {
   "cell_type": "code",
   "execution_count": 6,
   "metadata": {},
   "outputs": [
    {
     "data": {
      "text/plain": [
       "<All keys matched successfully>"
      ]
     },
     "execution_count": 6,
     "metadata": {},
     "output_type": "execute_result"
    }
   ],
   "source": [
    "fens = ['rnbqkbnr/pppppppp/8/8/8/8/PPPPPPPP/RNBQKBNR w KQkq - 0 1',\n",
    "        'rnb1k2r/pp3ppp/3bpn2/2pp4/3P1P2/1qPBP3/PP1N2PP/R1B1K1NR w KQkq - 0 8',\n",
    "        'Q4rk1/pbqp1p1p/6p1/2p5/2P5/4PNP1/R3BPKP/R7 w - - 1 25',\n",
    "        '6k1/pp3p1p/4r3/2b5/6p1/P4NPP/5PKB/R2Q4 w - - 0 28',\n",
    "        '4r3/p4ppp/1rpp3k/8/2Pq1P2/QP4PB/P1K4P/3R4 b - - 3 30']\n",
    "\n",
    "path_resd5 = '../models/resd5_278.pth'\n",
    "path_resd25 = '../models/resd25_300.pth'\n",
    "\n",
    "resd5 = modeld.Net(5)\n",
    "resd25 = modeld.Net(25)\n",
    "\n",
    "resd5.load_state_dict(torch.load(path_resd5))\n",
    "resd25.load_state_dict(torch.load(path_resd25))"
   ]
  },
  {
   "cell_type": "code",
   "execution_count": 7,
   "metadata": {},
   "outputs": [
    {
     "name": "stdout",
     "output_type": "stream",
     "text": [
      "FEN: rnbqkbnr/pppppppp/8/8/8/8/PPPPPPPP/RNBQKBNR w KQkq - 0 1\n",
      "true value: 0.1\n",
      "resd5  value: 0.09426946192979813 moves: [(Move.from_uci('d2d4'), 0.5494734048843384), (Move.from_uci('b1c3'), 0.08939709514379501), (Move.from_uci('g2g3'), 0.07960360497236252)]\n",
      "resd25 value: 0.11545117199420929 moves: [(Move.from_uci('d2d4'), 0.48416322469711304), (Move.from_uci('b1c3'), 0.12277655303478241), (Move.from_uci('g2g3'), 0.11993929743766785)]\n",
      "\n",
      "FEN: rnb1k2r/pp3ppp/3bpn2/2pp4/3P1P2/1qPBP3/PP1N2PP/R1B1K1NR w KQkq - 0 8\n",
      "true value: -0.4228865905983109\n",
      "resd5  value: -0.3929018974304199 moves: [(Move.from_uci('a2b3'), 0.8668450713157654), (Move.from_uci('d2b3'), 0.11891717463731766), (Move.from_uci('g1f3'), 0.0006068780785426497)]\n",
      "resd25 value: -0.4235202968120575 moves: [(Move.from_uci('a2b3'), 0.43979907035827637), (Move.from_uci('d2b3'), 0.167990580201149), (Move.from_uci('d2f3'), 0.10060108453035355)]\n",
      "\n",
      "FEN: Q4rk1/pbqp1p1p/6p1/2p5/2P5/4PNP1/R3BPKP/R7 w - - 1 25\n",
      "true value: 0.25798297321192726\n",
      "resd5  value: 0.2997470498085022 moves: [(Move.from_uci('a2b2'), 0.10492367297410965), (Move.from_uci('a1d1'), 0.051212459802627563), (Move.from_uci('h2h4'), 0.021138280630111694)]\n",
      "resd25 value: 0.308510959148407 moves: [(Move.from_uci('a1d1'), 0.1192505806684494), (Move.from_uci('g2h1'), 0.07630079239606857), (Move.from_uci('g2h3'), 0.05841529369354248)]\n",
      "\n",
      "FEN: 6k1/pp3p1p/4r3/2b5/6p1/P4NPP/5PKB/R2Q4 w - - 0 28\n",
      "true value: 0.03704622944182627\n",
      "resd5  value: 0.12408142536878586 moves: [(Move.from_uci('f3d4'), 0.4156888425350189), (Move.from_uci('f3d2'), 0.19091300666332245), (Move.from_uci('f3g5'), 0.06492527574300766)]\n",
      "resd25 value: 0.14918239414691925 moves: [(Move.from_uci('a3a4'), 0.10469308495521545), (Move.from_uci('a1b1'), 0.08431023359298706), (Move.from_uci('d1c2'), 0.04590339958667755)]\n",
      "\n",
      "FEN: 4r3/p4ppp/1rpp3k/8/2Pq1P2/QP4PB/P1K4P/3R4 b - - 3 30\n",
      "true value: -0.5336435010684416\n",
      "resd5  value: -0.5245378017425537 moves: [(Move.from_uci('d4f2'), 0.25217509269714355), (Move.from_uci('e8e7'), 0.12610876560211182), (Move.from_uci('d4c5'), 0.05792641267180443)]\n",
      "resd25 value: -0.5133658647537231 moves: [(Move.from_uci('e8e6'), 0.1419970989227295), (Move.from_uci('a7a5'), 0.11656288057565689), (Move.from_uci('e8c8'), 0.11377624422311783)]\n",
      "\n"
     ]
    }
   ],
   "source": [
    "for fen in fens:\n",
    "    print(f'FEN: {fen}')\n",
    "    print(f'true value: {encode_data.evaluate(fen)}')\n",
    "    \n",
    "    value, moves = modeld.predict(resd5, fen)\n",
    "    print(f'resd5  value: {value} moves: {moves}')\n",
    "    value, moves = modeld.predict(resd25, fen)\n",
    "    print(f'resd25 value: {value} moves: {moves}\\n')"
   ]
  }
 ],
 "metadata": {
  "kernelspec": {
   "display_name": "Python 3.11.2 64-bit",
   "language": "python",
   "name": "python3"
  },
  "language_info": {
   "codemirror_mode": {
    "name": "ipython",
    "version": 3
   },
   "file_extension": ".py",
   "mimetype": "text/x-python",
   "name": "python",
   "nbconvert_exporter": "python",
   "pygments_lexer": "ipython3",
   "version": "3.11.2"
  },
  "orig_nbformat": 4,
  "vscode": {
   "interpreter": {
    "hash": "c261aea317cc0286b3b3261fbba9abdec21eaa57589985bb7a274bf54d6cc0a7"
   }
  }
 },
 "nbformat": 4,
 "nbformat_minor": 2
}

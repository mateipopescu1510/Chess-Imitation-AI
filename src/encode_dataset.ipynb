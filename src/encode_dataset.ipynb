{
 "cells": [
  {
   "cell_type": "code",
   "execution_count": 1,
   "metadata": {},
   "outputs": [],
   "source": [
    "import chess\n",
    "import pandas as pd\n",
    "import numpy as np\n",
    "import time\n",
    "import encode_data\n",
    "import os\n",
    "from IPython.display import clear_output\n",
    "\n",
    "\n",
    "DATASET_PATH = '../data/dataset.csv'\n",
    "PREPARED_DATA_PATH = '../prepared_data/'\n",
    "data = pd.read_csv(DATASET_PATH, index_col=0)"
   ]
  },
  {
   "cell_type": "code",
   "execution_count": 6,
   "metadata": {},
   "outputs": [
    {
     "name": "stdout",
     "output_type": "stream",
     "text": [
      "encoding data... ( 104152/104152 ) [ 100.00% ]\n"
     ]
    },
    {
     "data": {
      "text/plain": [
       "True"
      ]
     },
     "execution_count": 6,
     "metadata": {},
     "output_type": "execute_result"
    }
   ],
   "source": [
    "def encode_dataset():\n",
    "    dict_fens = {}\n",
    "    distinct_fens = []\n",
    "    # moves_probs = []\n",
    "\n",
    "    boards = []\n",
    "    # policies = []\n",
    "    values = []\n",
    "    \n",
    "    for index, row in data.iterrows():\n",
    "        if index % 1000 == (len(data) - 1) % 1000:\n",
    "            clear_output()\n",
    "            print(f'parsing data... ( {(index + 1)}/{len(data)} ) [ {(index + 1) / len(data) * 100:.2f}% ]')\n",
    "        \n",
    "        fen = row['fen']\n",
    "        # move = row['move']\n",
    "        # prob = row['prob']\n",
    "        \n",
    "        if fen not in dict_fens:\n",
    "            distinct_fens.append(fen)\n",
    "            # moves_probs.append([(move, prob)])\n",
    "            dict_fens[fen] = len(distinct_fens) - 1\n",
    "        # else:\n",
    "            # moves_probs[dict_fens[fen]].append((move, prob))\n",
    "    \n",
    "    for index in range(len(distinct_fens)):\n",
    "        if index % 50 == (len(distinct_fens) - 1) % 50:\n",
    "            clear_output()\n",
    "            print(f'encoding data... ( {(index + 1)}/{len(distinct_fens)} ) [ {(index + 1) / len(distinct_fens) * 100:.2f}% ]')\n",
    "\n",
    "        fen = distinct_fens[index]\n",
    "        fen_row = data.loc[data['fen'] == fen].iloc[0]\n",
    "        \n",
    "        # boards.append(encode_data.encode_board(fen_row))\n",
    "        # policies.append(encode_data.generate_policy(fen, moves_probs[index]))\n",
    "        values.append(encode_data.evaluate(fen_row))\n",
    "        \n",
    "    # np.save(os.path.join(PREPARED_DATA_PATH, 'boards.npy'), np.array(boards))\n",
    "    # np.save(os.path.join(PREPARED_DATA_PATH, 'policies.npy'), np.array(policies))\n",
    "    np.save(os.path.join(PREPARED_DATA_PATH, 'values.npy'), np.array(values))\n",
    "    \n",
    "    return True\n",
    "\n",
    "encode_dataset()"
   ]
  },
  {
   "cell_type": "code",
   "execution_count": 7,
   "metadata": {},
   "outputs": [
    {
     "data": {
      "text/plain": [
       "((104152, 8, 8, 24),\n",
       " (104152, 4672),\n",
       " (104152,),\n",
       " -0.9940383275807113,\n",
       " 0.9987366388625216)"
      ]
     },
     "execution_count": 7,
     "metadata": {},
     "output_type": "execute_result"
    }
   ],
   "source": [
    "boards = np.load(os.path.join(PREPARED_DATA_PATH, 'boards.npy'))\n",
    "policies = np.load(os.path.join(PREPARED_DATA_PATH, 'policies.npy'))\n",
    "values = np.load(os.path.join(PREPARED_DATA_PATH, 'values.npy'))\n",
    "\n",
    "boards.shape, policies.shape, values.shape, np.min(values), np.max(values)"
   ]
  }
 ],
 "metadata": {
  "kernelspec": {
   "display_name": "Python 3.11.2 64-bit",
   "language": "python",
   "name": "python3"
  },
  "language_info": {
   "codemirror_mode": {
    "name": "ipython",
    "version": 3
   },
   "file_extension": ".py",
   "mimetype": "text/x-python",
   "name": "python",
   "nbconvert_exporter": "python",
   "pygments_lexer": "ipython3",
   "version": "3.11.2"
  },
  "orig_nbformat": 4,
  "vscode": {
   "interpreter": {
    "hash": "c261aea317cc0286b3b3261fbba9abdec21eaa57589985bb7a274bf54d6cc0a7"
   }
  }
 },
 "nbformat": 4,
 "nbformat_minor": 2
}

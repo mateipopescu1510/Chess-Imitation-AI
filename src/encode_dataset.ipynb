{
 "cells": [
  {
   "cell_type": "code",
   "execution_count": 1,
   "metadata": {},
   "outputs": [],
   "source": [
    "import chess\n",
    "import pandas as pd\n",
    "import numpy as np\n",
    "import time\n",
    "import positional_features\n",
    "import encode_data\n",
    "import os\n",
    "from IPython.display import clear_output\n",
    "from stockfish import Stockfish\n",
    "\n",
    "\n",
    "DATASET_PATH = '../data/dataset.csv'\n",
    "PREPARED_DATA_PATH = '../prepared_data/'\n",
    "data = pd.read_csv(DATASET_PATH, index_col=0)"
   ]
  },
  {
   "cell_type": "code",
   "execution_count": 10,
   "metadata": {},
   "outputs": [
    {
     "name": "stdout",
     "output_type": "stream",
     "text": [
      "105200/105293\n"
     ]
    }
   ],
   "source": [
    "def encode_dataset():\n",
    "    board = chess.Board()\n",
    "    encoded_positions = []\n",
    "    encoded_moves = []\n",
    "    \n",
    "    for index, row in data.iterrows():\n",
    "        if index % 100 == 0:\n",
    "            clear_output()\n",
    "            print(f'{index}/{len(data)}')\n",
    "        fen = row['fen']\n",
    "        move = row['move']\n",
    "        encoded_positions.append(encode_data.board_to_tensor(fen))\n",
    "        encoded_moves.append(encode_data.encodeMove(move, chess.Board(fen)))\n",
    "\n",
    "    np.save('../prepared_data/positions', np.array(encoded_positions))\n",
    "    np.save('../prepared_data/moves', np.array(encoded_moves))\n",
    "    \n",
    "encode_dataset()"
   ]
  },
  {
   "cell_type": "code",
   "execution_count": 21,
   "metadata": {},
   "outputs": [
    {
     "name": "stdout",
     "output_type": "stream",
     "text": [
      "(105293, 8, 8, 14) (105293,)\n",
      "2044 e4e5\n",
      "2044\n"
     ]
    }
   ],
   "source": [
    "positions = np.load('../prepared_data/positions.npy')\n",
    "moves = np.load('../prepared_data/moves.npy')\n",
    "print(positions.shape, moves.shape)\n",
    "print(moves[1000], encode_data.decodeMove(moves[1000], chess.Board(data['fen'][1000])))\n",
    "print(encode_data.encodeMove('e4e5', chess.Board(data['fen'][1000])))\n"
   ]
  },
  {
   "cell_type": "code",
   "execution_count": 17,
   "metadata": {},
   "outputs": [],
   "source": [
    "# def process_dataset(data):\n",
    "#     data['opening'] = data['opening'].astype('category').cat.codes\n",
    "#     data['game_phase'] = data['game_phase'].astype('category').cat.codes\n",
    "#     data['is_top_move'] = data['is_top_move'].astype('category').cat.codes\n",
    "#     data['pawn_structure'] = data['pawn_structure'].astype('category').cat.codes\n",
    "#     return data\n",
    "\n",
    "# dt = process_dataset(data)\n",
    "# dt['game_phase']"
   ]
  }
 ],
 "metadata": {
  "kernelspec": {
   "display_name": "Python 3.11.2 64-bit",
   "language": "python",
   "name": "python3"
  },
  "language_info": {
   "codemirror_mode": {
    "name": "ipython",
    "version": 3
   },
   "file_extension": ".py",
   "mimetype": "text/x-python",
   "name": "python",
   "nbconvert_exporter": "python",
   "pygments_lexer": "ipython3",
   "version": "3.11.2"
  },
  "orig_nbformat": 4,
  "vscode": {
   "interpreter": {
    "hash": "c261aea317cc0286b3b3261fbba9abdec21eaa57589985bb7a274bf54d6cc0a7"
   }
  }
 },
 "nbformat": 4,
 "nbformat_minor": 2
}

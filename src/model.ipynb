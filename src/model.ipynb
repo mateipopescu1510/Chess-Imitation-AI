{
 "cells": [
  {
   "cell_type": "code",
   "execution_count": 1,
   "metadata": {},
   "outputs": [],
   "source": [
    "import pandas as pd\n",
    "import numpy as np\n",
    "import chess\n",
    "from stockfish import Stockfish\n",
    "from timeit import default_timer as timer\n",
    "import IPython.display as display\n",
    "import os\n",
    "\n",
    "\n",
    "import torch\n",
    "import torch.nn as nn\n",
    "import torch.nn.functional as F\n",
    "import torch.optim as optim\n",
    "from torch.utils.data import DataLoader\n",
    "from torch.utils.data import TensorDataset\n",
    "from sklearn.utils import shuffle\n",
    "\n",
    "import encode_data\n",
    "import positional_features\n",
    "\n",
    "device = 'cuda' if torch.cuda.is_available() else 'cpu'\n",
    "stockfish = Stockfish(path = 'C:\\Program Files\\stockfish\\stockfish-windows-x86-64-avx2.exe', depth=13, parameters={'Threads': 4, 'Hash': 32})\n",
    "\n",
    "positions = torch.from_numpy(np.asarray(np.load('../prepared_data/positions.npy'))).to(device)\n",
    "moves = torch.from_numpy(np.asarray(np.load('../prepared_data/moves.npy'))).to(device)\n",
    "\n",
    "TRAIN_INDEX = int(len(positions) * 0.7)\n",
    "BATCH_SIZE = 16\n",
    "\n",
    "train_data = TensorDataset(positions[:TRAIN_INDEX], moves[:TRAIN_INDEX])\n",
    "test_data = TensorDataset(positions[TRAIN_INDEX:], moves[TRAIN_INDEX:])\n",
    "\n",
    "train_loader = DataLoader(train_data, batch_size=BATCH_SIZE, shuffle=True)\n",
    "test_loader = DataLoader(test_data, batch_size=BATCH_SIZE, shuffle=False)"
   ]
  },
  {
   "cell_type": "code",
   "execution_count": 2,
   "metadata": {},
   "outputs": [],
   "source": [
    "class ChessLoss(nn.Module):\n",
    "    def __init__(self):\n",
    "        super(ChessLoss, self).__init__()\n",
    "    \n",
    "    def forward(self, predictions, labels):\n",
    "        return"
   ]
  },
  {
   "cell_type": "code",
   "execution_count": 3,
   "metadata": {},
   "outputs": [],
   "source": [
    "class ResNet(nn.Module):\n",
    "    def __init__(self):\n",
    "        super(ResNet, self).__init__()\n",
    "        self.c1 = nn.Conv2d(256, 256, 3, 1, 1)\n",
    "        self.b1 = nn.BatchNorm2d(256)\n",
    "        self.c2 = nn.Conv2d(256, 256, 3, 1, 1)\n",
    "        self.b2 = nn.BatchNorm2d(256)\n",
    "        \n",
    "    def forward(self, x):\n",
    "        res = x\n",
    "        out = F.relu(self.b1(self.c1(x)))\n",
    "        out = self.b2(self.c2(out))\n",
    "        out += res\n",
    "        out = F.relu(out)\n",
    "        return out\n",
    "        "
   ]
  },
  {
   "cell_type": "code",
   "execution_count": 4,
   "metadata": {},
   "outputs": [
    {
     "data": {
      "text/plain": [
       "Net(\n",
       "  (c1): Conv2d(14, 256, kernel_size=(3, 3), stride=(1, 1), padding=(1, 1))\n",
       "  (b1): BatchNorm2d(256, eps=1e-05, momentum=0.1, affine=True, track_running_stats=True)\n",
       "  (res0): ResNet(\n",
       "    (c1): Conv2d(256, 256, kernel_size=(3, 3), stride=(1, 1), padding=(1, 1))\n",
       "    (b1): BatchNorm2d(256, eps=1e-05, momentum=0.1, affine=True, track_running_stats=True)\n",
       "    (c2): Conv2d(256, 256, kernel_size=(3, 3), stride=(1, 1), padding=(1, 1))\n",
       "    (b2): BatchNorm2d(256, eps=1e-05, momentum=0.1, affine=True, track_running_stats=True)\n",
       "  )\n",
       "  (res1): ResNet(\n",
       "    (c1): Conv2d(256, 256, kernel_size=(3, 3), stride=(1, 1), padding=(1, 1))\n",
       "    (b1): BatchNorm2d(256, eps=1e-05, momentum=0.1, affine=True, track_running_stats=True)\n",
       "    (c2): Conv2d(256, 256, kernel_size=(3, 3), stride=(1, 1), padding=(1, 1))\n",
       "    (b2): BatchNorm2d(256, eps=1e-05, momentum=0.1, affine=True, track_running_stats=True)\n",
       "  )\n",
       "  (res2): ResNet(\n",
       "    (c1): Conv2d(256, 256, kernel_size=(3, 3), stride=(1, 1), padding=(1, 1))\n",
       "    (b1): BatchNorm2d(256, eps=1e-05, momentum=0.1, affine=True, track_running_stats=True)\n",
       "    (c2): Conv2d(256, 256, kernel_size=(3, 3), stride=(1, 1), padding=(1, 1))\n",
       "    (b2): BatchNorm2d(256, eps=1e-05, momentum=0.1, affine=True, track_running_stats=True)\n",
       "  )\n",
       "  (res3): ResNet(\n",
       "    (c1): Conv2d(256, 256, kernel_size=(3, 3), stride=(1, 1), padding=(1, 1))\n",
       "    (b1): BatchNorm2d(256, eps=1e-05, momentum=0.1, affine=True, track_running_stats=True)\n",
       "    (c2): Conv2d(256, 256, kernel_size=(3, 3), stride=(1, 1), padding=(1, 1))\n",
       "    (b2): BatchNorm2d(256, eps=1e-05, momentum=0.1, affine=True, track_running_stats=True)\n",
       "  )\n",
       "  (res4): ResNet(\n",
       "    (c1): Conv2d(256, 256, kernel_size=(3, 3), stride=(1, 1), padding=(1, 1))\n",
       "    (b1): BatchNorm2d(256, eps=1e-05, momentum=0.1, affine=True, track_running_stats=True)\n",
       "    (c2): Conv2d(256, 256, kernel_size=(3, 3), stride=(1, 1), padding=(1, 1))\n",
       "    (b2): BatchNorm2d(256, eps=1e-05, momentum=0.1, affine=True, track_running_stats=True)\n",
       "  )\n",
       "  (res5): ResNet(\n",
       "    (c1): Conv2d(256, 256, kernel_size=(3, 3), stride=(1, 1), padding=(1, 1))\n",
       "    (b1): BatchNorm2d(256, eps=1e-05, momentum=0.1, affine=True, track_running_stats=True)\n",
       "    (c2): Conv2d(256, 256, kernel_size=(3, 3), stride=(1, 1), padding=(1, 1))\n",
       "    (b2): BatchNorm2d(256, eps=1e-05, momentum=0.1, affine=True, track_running_stats=True)\n",
       "  )\n",
       "  (res6): ResNet(\n",
       "    (c1): Conv2d(256, 256, kernel_size=(3, 3), stride=(1, 1), padding=(1, 1))\n",
       "    (b1): BatchNorm2d(256, eps=1e-05, momentum=0.1, affine=True, track_running_stats=True)\n",
       "    (c2): Conv2d(256, 256, kernel_size=(3, 3), stride=(1, 1), padding=(1, 1))\n",
       "    (b2): BatchNorm2d(256, eps=1e-05, momentum=0.1, affine=True, track_running_stats=True)\n",
       "  )\n",
       "  (res7): ResNet(\n",
       "    (c1): Conv2d(256, 256, kernel_size=(3, 3), stride=(1, 1), padding=(1, 1))\n",
       "    (b1): BatchNorm2d(256, eps=1e-05, momentum=0.1, affine=True, track_running_stats=True)\n",
       "    (c2): Conv2d(256, 256, kernel_size=(3, 3), stride=(1, 1), padding=(1, 1))\n",
       "    (b2): BatchNorm2d(256, eps=1e-05, momentum=0.1, affine=True, track_running_stats=True)\n",
       "  )\n",
       "  (res8): ResNet(\n",
       "    (c1): Conv2d(256, 256, kernel_size=(3, 3), stride=(1, 1), padding=(1, 1))\n",
       "    (b1): BatchNorm2d(256, eps=1e-05, momentum=0.1, affine=True, track_running_stats=True)\n",
       "    (c2): Conv2d(256, 256, kernel_size=(3, 3), stride=(1, 1), padding=(1, 1))\n",
       "    (b2): BatchNorm2d(256, eps=1e-05, momentum=0.1, affine=True, track_running_stats=True)\n",
       "  )\n",
       "  (res9): ResNet(\n",
       "    (c1): Conv2d(256, 256, kernel_size=(3, 3), stride=(1, 1), padding=(1, 1))\n",
       "    (b1): BatchNorm2d(256, eps=1e-05, momentum=0.1, affine=True, track_running_stats=True)\n",
       "    (c2): Conv2d(256, 256, kernel_size=(3, 3), stride=(1, 1), padding=(1, 1))\n",
       "    (b2): BatchNorm2d(256, eps=1e-05, momentum=0.1, affine=True, track_running_stats=True)\n",
       "  )\n",
       "  (f1): Linear(in_features=16384, out_features=1024, bias=True)\n",
       "  (f2): Linear(in_features=1024, out_features=512, bias=True)\n",
       "  (f3): Linear(in_features=512, out_features=4672, bias=True)\n",
       ")"
      ]
     },
     "execution_count": 4,
     "metadata": {},
     "output_type": "execute_result"
    }
   ],
   "source": [
    "class Net(nn.Module):\n",
    "    def __init__(self):\n",
    "        super(Net, self).__init__()\n",
    "        \n",
    "        self.c1 = nn.Conv2d(14, 256, 3, 1, 1)\n",
    "        self.b1 = nn.BatchNorm2d(256)\n",
    "        \n",
    "        for i in range(10):\n",
    "            setattr(self, f'res{i}', ResNet())\n",
    "        \n",
    "        self.f1 = nn.Linear(256 * 8 * 8, 1024)\n",
    "        self.f2 = nn.Linear(1024, 512)\n",
    "        self.f3 = nn.Linear(512, 4672)\n",
    "        \n",
    "    def forward(self, x):\n",
    "        x = x.to(torch.float32)\n",
    "        x = x.permute(0, 3, 1, 2)\n",
    "        \n",
    "        x = F.relu(self.b1(self.c1(x)))\n",
    "        \n",
    "        for i in range(10):\n",
    "            x = getattr(self, f'res{i}')(x)\n",
    "        \n",
    "        x = torch.flatten(x, 1)\n",
    "        \n",
    "        x = F.relu(self.f1(x))\n",
    "        x = F.relu(self.f2(x))\n",
    "        x = self.f3(x)\n",
    "        \n",
    "        return x\n",
    "\n",
    "Net()"
   ]
  },
  {
   "cell_type": "code",
   "execution_count": 10,
   "metadata": {},
   "outputs": [
    {
     "name": "stdout",
     "output_type": "stream",
     "text": [
      "epoch 20/20 loss: 0.1569\n",
      "finished training in 4410.56s\n"
     ]
    }
   ],
   "source": [
    "net = Net().to(device)\n",
    "criterion = nn.CrossEntropyLoss()\n",
    "optimizer = optim.SGD(net.parameters(), lr=0.003)\n",
    "\n",
    "NUM_EPOCHS = 20\n",
    "len_loader = len(train_loader)\n",
    "curr_loss = 0.0\n",
    "\n",
    "start = timer()\n",
    "for epoch in range(NUM_EPOCHS):\n",
    "    total_loss = 0.0\n",
    "\n",
    "    \n",
    "    for i, data in enumerate(train_loader, 0):\n",
    "        inputs, labels = data\n",
    "        optimizer.zero_grad()\n",
    "        \n",
    "        outputs = net(inputs)\n",
    "        loss = criterion(outputs, labels)\n",
    "        loss.backward()\n",
    "        optimizer.step()\n",
    "        \n",
    "        total_loss += loss.item()\n",
    "        \n",
    "        if i % 25 == 0:\n",
    "            display.clear_output()\n",
    "            print(f'[{i}/{len_loader}] epoch {epoch}/{NUM_EPOCHS} loss: {curr_loss:.4f} ')\n",
    "        \n",
    "        # if i == len(train_loader) - 1:\n",
    "    display.clear_output()\n",
    "    curr_loss = total_loss / len_loader\n",
    "    print(f'epoch {epoch + 1}/{NUM_EPOCHS} loss: {curr_loss:.4f}')\n",
    "    total_loss = 0.0\n",
    "\n",
    "end = timer()\n",
    "print(f'finished training in {(end - start):.2f}s')"
   ]
  },
  {
   "cell_type": "code",
   "execution_count": 11,
   "metadata": {},
   "outputs": [],
   "source": [
    "PATH = '../models/resnet10.pth'\n",
    "torch.save(net.state_dict(), PATH)"
   ]
  },
  {
   "cell_type": "code",
   "execution_count": 12,
   "metadata": {},
   "outputs": [
    {
     "name": "stdout",
     "output_type": "stream",
     "text": [
      "model accuracy: 0.203\n"
     ]
    }
   ],
   "source": [
    "correct = 0\n",
    "total = 0\n",
    "with torch.no_grad():\n",
    "    for data in test_loader:\n",
    "        inputs, labels = data\n",
    "    \n",
    "        outputs = net(inputs)    \n",
    "        _, predicted = torch.max(outputs.data, 1)\n",
    "        \n",
    "        total += labels.size(0)\n",
    "        correct += (predicted == labels).sum().item()\n",
    "\n",
    "print(f'model accuracy: {correct / total:.3f}')\n",
    "# terrible accuracy currently due to lack of legal move check (wip)"
   ]
  },
  {
   "cell_type": "code",
   "execution_count": 22,
   "metadata": {},
   "outputs": [
    {
     "data": {
      "text/plain": [
       "[Move.from_uci('c2c3'), Move.from_uci('g1f3'), Move.from_uci('d1e2')]"
      ]
     },
     "execution_count": 22,
     "metadata": {},
     "output_type": "execute_result"
    }
   ],
   "source": [
    "fen = 'rnbqk2r/pp3ppp/3bpn2/2pp4/3P1P2/3BP3/PPPN2PP/R1BQK1NR w KQkq - 0 6'\n",
    "board_tensor = torch.from_numpy(np.asarray(encode_data.board_to_tensor(fen))).to(device)\n",
    "board_tensor = board_tensor.unsqueeze(0)\n",
    "\n",
    "net.eval()\n",
    "out = net(board_tensor)\n",
    "out = out.squeeze(0)\n",
    "\n",
    "_, idx = torch.topk(out, 3)\n",
    "\n",
    "moves = [encode_data.decodeMove(x, chess.Board(fen)) for x in idx.tolist()]\n",
    "moves "
   ]
  }
 ],
 "metadata": {
  "kernelspec": {
   "display_name": "Python 3.11.2 64-bit",
   "language": "python",
   "name": "python3"
  },
  "language_info": {
   "codemirror_mode": {
    "name": "ipython",
    "version": 3
   },
   "file_extension": ".py",
   "mimetype": "text/x-python",
   "name": "python",
   "nbconvert_exporter": "python",
   "pygments_lexer": "ipython3",
   "version": "3.11.2"
  },
  "orig_nbformat": 4,
  "vscode": {
   "interpreter": {
    "hash": "c261aea317cc0286b3b3261fbba9abdec21eaa57589985bb7a274bf54d6cc0a7"
   }
  }
 },
 "nbformat": 4,
 "nbformat_minor": 2
}

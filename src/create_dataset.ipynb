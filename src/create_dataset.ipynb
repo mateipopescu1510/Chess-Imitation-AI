{
 "cells": [
  {
   "cell_type": "code",
   "execution_count": 1,
   "metadata": {},
   "outputs": [],
   "source": [
    "import chess\n",
    "import pandas as pd\n",
    "import numpy as np\n",
    "import time\n",
    "import positional_features\n",
    "from IPython.display import clear_output\n",
    "from stockfish import Stockfish\n",
    "\n",
    "CSV_FILE_PATH = \"../data/game_data.csv\"\n",
    "USER = \"matei_popescu1510\"\n",
    "stockfish = Stockfish(path = \"C:\\Program Files\\stockfish\\stockfish-windows-x86-64-avx2.exe\", depth=15)"
   ]
  },
  {
   "cell_type": "code",
   "execution_count": 2,
   "metadata": {},
   "outputs": [],
   "source": [
    "game_data = pd.read_csv(CSV_FILE_PATH)\n",
    "positions = {}"
   ]
  },
  {
   "cell_type": "code",
   "execution_count": null,
   "metadata": {},
   "outputs": [],
   "source": [
    "# ## Testing\n",
    "# board = chess.Board()\n",
    "# moves = game_data['moves'][11]\n",
    "# white_id = game_data['white_id'][11]\n",
    "# black_id = game_data['black_id'][11]\n",
    "# user_side = chess.WHITE if white_id == USER else chess.BLACK\n",
    "\n",
    "# for move in moves.split():\n",
    "#     if board.turn == user_side:\n",
    "#         fen = board.fen()\n",
    "#         if fen not in positions:\n",
    "#             positions[fen] = set()\n",
    "#         positions[fen].add(move)\n",
    "#     board.push_uci(move)\n",
    "    \n",
    "# print(positions)"
   ]
  },
  {
   "cell_type": "code",
   "execution_count": 3,
   "metadata": {},
   "outputs": [],
   "source": [
    "# TODO augment dataset\n",
    "for index, row in game_data.iterrows():\n",
    "    board = chess.Board()\n",
    "    moves = row['moves'].split()\n",
    "    white_id = row['white_id']\n",
    "    black_id = row['black_id']\n",
    "    user_side = chess.WHITE if white_id == USER else chess.BLACK\n",
    "    \n",
    "    for move in moves:\n",
    "        if board.turn == user_side:\n",
    "            fen = board.fen()\n",
    "            if fen not in positions:\n",
    "                positions[fen] = {}\n",
    "            positions[fen][move] = positions[fen].get(move, 0) + 1\n",
    "        board.push_uci(move)\n",
    "\n",
    "positions_tuples = [(fen, move, counter) for fen, moves in positions.items() for move, counter in moves.items()] \n",
    "# if counter > 1 /// If this condition is added, all unique positions I've been in drop from over 100000 to around 2400. Goes to show how thin the tree of positions gets the further a game goes.\n",
    "dataset = pd.DataFrame(positions_tuples, columns=['fen', 'move','counter'])"
   ]
  },
  {
   "cell_type": "code",
   "execution_count": null,
   "metadata": {},
   "outputs": [],
   "source": [
    "POSITIONS_CSV_PATH = '../data/dataset.csv'\n",
    "dataset.to_csv(POSITIONS_CSV_PATH)\n",
    "dataset"
   ]
  }
 ],
 "metadata": {
  "kernelspec": {
   "display_name": "Python 3.11.2 64-bit",
   "language": "python",
   "name": "python3"
  },
  "language_info": {
   "codemirror_mode": {
    "name": "ipython",
    "version": 3
   },
   "file_extension": ".py",
   "mimetype": "text/x-python",
   "name": "python",
   "nbconvert_exporter": "python",
   "pygments_lexer": "ipython3",
   "version": "3.11.2"
  },
  "orig_nbformat": 4,
  "vscode": {
   "interpreter": {
    "hash": "c261aea317cc0286b3b3261fbba9abdec21eaa57589985bb7a274bf54d6cc0a7"
   }
  }
 },
 "nbformat": 4,
 "nbformat_minor": 2
}

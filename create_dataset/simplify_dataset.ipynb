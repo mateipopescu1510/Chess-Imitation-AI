{
 "cells": [
  {
   "cell_type": "code",
   "execution_count": 3,
   "metadata": {},
   "outputs": [],
   "source": [
    "import chess\n",
    "import pandas as pd\n",
    "import numpy as np\n",
    "import time\n",
    "import os\n",
    "import positional_features\n",
    "from IPython.display import clear_output\n",
    "\n",
    "DATASET_OLD_PATH = '../data_old/dataset_evalafter.csv'\n",
    "DATASET_PATH = '../data/dataset.csv'\n",
    "data = pd.read_csv(DATASET_OLD_PATH, index_col=0)"
   ]
  },
  {
   "cell_type": "code",
   "execution_count": null,
   "metadata": {},
   "outputs": [],
   "source": [
    "data = data.drop(columns=['elo_diff','game_phase', 'opening'])\n",
    "data"
   ]
  },
  {
   "cell_type": "code",
   "execution_count": null,
   "metadata": {},
   "outputs": [],
   "source": [
    "phase = []\n",
    "material = []\n",
    "king = []\n",
    "center = []\n",
    "file = []\n",
    "structure = []\n",
    "\n",
    "for index, row in data.iterrows():\n",
    "    if index % 1000 == (len(data) - 1) % 1000:\n",
    "        clear_output()\n",
    "        print(f'...[{(index + 1) / len(data) * 100:.2f}%]')\n",
    "        \n",
    "    fen = row['fen']\n",
    "    move = row['move']\n",
    "    board = chess.Board(fen)\n",
    "    \n",
    "    phase.append(positional_features.game_phase(board))\n",
    "    material.append(positional_features.material_difference(board))\n",
    "    king.append(positional_features.king_danger_score_diff(board))\n",
    "    center.append(positional_features.center_control_score(board))\n",
    "    file.append(positional_features.file_control_score(board))\n",
    "    structure.append(positional_features.pawn_structure(board))\n",
    "    \n",
    "data['game_phase'] = phase\n",
    "data['material'] = material\n",
    "data['king_danger'] = king\n",
    "data['center_control'] = center\n",
    "data['file_control'] = file\n",
    "data['pawn_structure'] = structure\n",
    "\n",
    "data.to_csv(DATASET_PATH)\n",
    "data"
   ]
  }
 ],
 "metadata": {
  "kernelspec": {
   "display_name": "Python 3.11.2 64-bit",
   "language": "python",
   "name": "python3"
  },
  "language_info": {
   "codemirror_mode": {
    "name": "ipython",
    "version": 3
   },
   "file_extension": ".py",
   "mimetype": "text/x-python",
   "name": "python",
   "nbconvert_exporter": "python",
   "pygments_lexer": "ipython3",
   "version": "3.11.2"
  },
  "orig_nbformat": 4,
  "vscode": {
   "interpreter": {
    "hash": "c261aea317cc0286b3b3261fbba9abdec21eaa57589985bb7a274bf54d6cc0a7"
   }
  }
 },
 "nbformat": 4,
 "nbformat_minor": 2
}
